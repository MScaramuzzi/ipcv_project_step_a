{
 "cells": [
  {
   "cell_type": "markdown",
   "metadata": {},
   "source": [
    "# Product Recognition on Store Shelves"
   ]
  },
  {
   "cell_type": "markdown",
   "metadata": {},
   "source": [
    "### Marco Scaramuzzi \n",
    "- Student ID: 0001057167\n",
    "- email: marco.scaramuzzi@studio.unibo.it"
   ]
  },
  {
   "cell_type": "markdown",
   "metadata": {},
   "source": [
    "## Task\n",
    "Develop a computer vision system that, given a reference image for each product, is able to identify boxes of cereals of different brands from one picture of a store shelf. For each type of product displayed in the shelf the system should report:\n",
    "\n",
    "1. Number of instances.\n",
    "2. Dimension of each instance (width and height of the bounding box that enclose them in pixel)."
   ]
  },
  {
   "cell_type": "code",
   "execution_count": null,
   "metadata": {},
   "outputs": [],
   "source": [
    "#Import required modules\n",
    "import numpy as np\n",
    "from matplotlib import pyplot as plt\n",
    "import cv2\n",
    "from typing import Tuple\n",
    "from collections import defaultdict\n",
    "from glob import glob\n",
    "\n",
    "\n",
    "\n",
    "# Only for jupyter notebook visualization\n",
    "%matplotlib inline\n",
    "\n",
    "%load_ext autoreload\n",
    "%autoreload 2"
   ]
  },
  {
   "cell_type": "markdown",
   "metadata": {},
   "source": [
    "# Enviromental variables"
   ]
  },
  {
   "cell_type": "markdown",
   "metadata": {},
   "source": [
    "#### Train on model image: {0.png, 1.png, 11.png, 19.png, 24.png, 25.png, 26.png}\n",
    "#### Test on scene image: {e1.png, e2.png, e3.png, e4.png, e5.png}\n"
   ]
  },
  {
   "cell_type": "code",
   "execution_count": 2,
   "metadata": {},
   "outputs": [],
   "source": [
    "def centroid(vertexes):\n",
    "    vertexes = np.array(vertexes)  # Converti in array NumPy per operazioni efficienti\n",
    "    return tuple(np.round(vertexes.mean(axis=0)).astype(int))  # Calcola la media lungo le colonne\n",
    "\n",
    "def euclidian_distance(point_1, point_2):\n",
    "    return np.linalg.norm(np.array(point_1) - np.array(point_2))  # Distanza euclidea con NumPy\n"
   ]
  },
  {
   "cell_type": "code",
   "execution_count": 3,
   "metadata": {},
   "outputs": [],
   "source": [
    "model_names = [\"0.jpg\", \"1.jpg\", \"11.jpg\", \"19.jpg\", \"24.jpg\", \"25.jpg\", \"26.jpg\"]\n",
    "model_images = {name: cv2.imread(f\"models/{name}\") for name in model_names}\n"
   ]
  },
  {
   "cell_type": "code",
   "execution_count": 4,
   "metadata": {},
   "outputs": [],
   "source": [
    "def findmodel(i, check=False):\n",
    "    models = {\n",
    "        0: \"Nesquik Cioccomilk\",\n",
    "        1: \"ChocoKrave al latte\",\n",
    "        11: \"ChocoKrave Nocciole\",\n",
    "        19: \"Country crisp\",\n",
    "        24: \"Fitness\",\n",
    "        25: \"Coco Pops\",\n",
    "        26: \"Nesquik Duo\"\n",
    "    }\n",
    "    \n",
    "    if i in models:\n",
    "        if check:\n",
    "            print(f\"model {i}: {models[i]}\")\n",
    "        return i, models[i]\n",
    "    else:\n",
    "        print(f\"⚠️ Attention: model {i} not found!\") if check else None\n",
    "        return None, None\n"
   ]
  },
  {
   "cell_type": "code",
   "execution_count": null,
   "metadata": {},
   "outputs": [],
   "source": [
    "def build_r_table(center, source_vectors):\n",
    "    \"\"\"\n",
    "    Generates an R-Table for Generalized Hough Transform.\n",
    "    \n",
    "    Parameters:\n",
    "        center (tuple): (x, y) coordinates of the centroid.\n",
    "        source_vectors (numpy.ndarray): Array of shape (N, 2) containing keypoint positions.\n",
    "\n",
    "    Returns:\n",
    "        defaultdict(list): R-Table with distances from keypoints to the centroid.\n",
    "    \"\"\"\n",
    "    r_table = defaultdict(list)\n",
    "\n",
    "    # Convert source_vectors to NumPy array for efficiency\n",
    "    source_vectors = np.array(source_vectors)\n",
    "\n",
    "    # Compute distance vectors in one vectorized operation\n",
    "    delta_x = center[0] - source_vectors[:, 0]\n",
    "    delta_y = center[1] - source_vectors[:, 1]\n",
    "\n",
    "    # Stack results efficiently\n",
    "    distances = np.column_stack((delta_x, delta_y, np.ones_like(delta_x)))  # Assume size = 1 for now\n",
    "\n",
    "    # Store each keypoint's distances in the R-table\n",
    "    for index, (dx, dy, size) in enumerate(distances):\n",
    "        r_table[index].append((dx, dy, size))\n",
    "\n",
    "    return r_table\n"
   ]
  },
  {
   "cell_type": "code",
   "execution_count": null,
   "metadata": {},
   "outputs": [],
   "source": [
    "\n",
    "\n",
    "def accumulate_votes(r_table, shelf_image, scene_keypoints):\n",
    "    \"\"\"\n",
    "    Casts votes for barycentre position using the R-Table.\n",
    "    \n",
    "    Parameters:\n",
    "        r_table (defaultdict(list)): The R-Table storing model keypoints' vectors.\n",
    "        shelf_image (numpy.ndarray): The image of the shelf (used to get accumulator size).\n",
    "        scene_keypoints (numpy.ndarray): Array of shape (N, 2) with detected keypoints in the scene.\n",
    "    \n",
    "    Returns:\n",
    "        numpy.ndarray: The accumulator matrix where the most voted position is likely the barycentre.\n",
    "    \"\"\"\n",
    "    # Initialize accumulator\n",
    "    accumulator = np.zeros(shelf_image.shape[:2], dtype=np.int32)\n",
    "\n",
    "    # Ensure keypoints are a NumPy array\n",
    "    scene_keypoints = np.array(scene_keypoints)\n",
    "\n",
    "    # Loop through each keypoint in the scene\n",
    "    for idx, (scene_pos, scene_size) in enumerate(scene_keypoints):\n",
    "        x_scene, y_scene = scene_pos\n",
    "\n",
    "        # Find the corresponding model keypoint index\n",
    "        model_index = idx // 3  # Assuming each model keypoint has 3 associated scene keypoints\n",
    "\n",
    "        if model_index not in r_table:\n",
    "            continue  # Skip if the model keypoint is not in the R-Table\n",
    "\n",
    "        # Get the precomputed vectors from the R-Table\n",
    "        for dx, dy, model_size in r_table[model_index]:\n",
    "            scale_ratio = scene_size / model_size  # Scale factor\n",
    "            x_accum = int(round(x_scene + scale_ratio * dx))\n",
    "            y_accum = int(round(y_scene + scale_ratio * dy))\n",
    "\n",
    "            # Ensure we don't go out of bounds\n",
    "            if 0 <= x_accum < accumulator.shape[1] and 0 <= y_accum < accumulator.shape[0]:\n",
    "                accumulator[y_accum, x_accum] += 1  # Increment vote at calculated barycentre position\n",
    "\n",
    "    return accumulator\n"
   ]
  },
  {
   "cell_type": "code",
   "execution_count": null,
   "metadata": {},
   "outputs": [],
   "source": [
    "def plot_accumulator(accumulator, shelf_image):\n",
    "    \"\"\"\n",
    "    Plots the accumulator on a white image and finds barycentre candidates.\n",
    "    \n",
    "    Parameters:\n",
    "        accumulator (numpy.ndarray): The voting accumulator matrix.\n",
    "        shelf_image (numpy.ndarray): The shelf image (used to get the shape).\n",
    "    \n",
    "    Returns:\n",
    "        list: List of (x, y) barycentre candidate coordinates.\n",
    "    \"\"\"\n",
    "    # Copy shelf image and fill with white\n",
    "    height, width = accumulator.shape\n",
    "    white_image = np.full_like(shelf_image, 255)  # Faster than .copy() + .fill(255)\n",
    "    \n",
    "    # Find all candidate barycentres (votes > 2)\n",
    "    barycentres = np.argwhere(accumulator > 2)\n",
    "    \n",
    "    # Draw black points where votes > 0\n",
    "    white_image[accumulator > 0] = 0\n",
    "    \n",
    "    # Draw diagonal cross around each barycentre\n",
    "    radius = 10\n",
    "    for y, x in barycentres:\n",
    "        # Define safe bounding box using np.clip\n",
    "        y_start, y_end = np.clip([y - radius, y + radius], 0, height - 1)\n",
    "        x_start, x_end = np.clip([x - radius, x + radius], 0, width - 1)\n",
    "        \n",
    "        # Draw diagonal cross using slicing\n",
    "        white_image[y_start:y_end, x_start:x_end] = 0\n",
    "        white_image[y_start:y_end, x_end:x_start:-1] = 0  # Reverse diagonal\n",
    "        \n",
    "    # Plot the image\n",
    "    plt.figure(figsize=(20, 10))\n",
    "    plt.imshow(white_image, cmap='gray', vmin=0, vmax=255)\n",
    "    plt.show()\n",
    "    \n",
    "    return barycentres.tolist()\n"
   ]
  }
 ],
 "metadata": {
  "kernelspec": {
   "display_name": "Python 3",
   "language": "python",
   "name": "python3"
  },
  "language_info": {
   "codemirror_mode": {
    "name": "ipython",
    "version": 3
   },
   "file_extension": ".py",
   "mimetype": "text/x-python",
   "name": "python",
   "nbconvert_exporter": "python",
   "pygments_lexer": "ipython3",
   "version": "3.10.1"
  }
 },
 "nbformat": 4,
 "nbformat_minor": 2
}
